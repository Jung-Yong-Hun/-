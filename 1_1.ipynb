{
  "nbformat": 4,
  "nbformat_minor": 0,
  "metadata": {
    "interpreter": {
      "hash": "8699098bb70d7178fbcce397b8f938bb031198166dd8c6d80b22a8e57356ac14"
    },
    "kernelspec": {
      "display_name": "Python 3.8.11 64-bit ('base': conda)",
      "name": "python3"
    },
    "language_info": {
      "codemirror_mode": {
        "name": "ipython",
        "version": 3
      },
      "file_extension": ".py",
      "mimetype": "text/x-python",
      "name": "python",
      "nbconvert_exporter": "python",
      "pygments_lexer": "ipython3",
      "version": "3.8.11"
    },
    "orig_nbformat": 4,
    "colab": {
      "name": "1_1.ipynb",
      "provenance": [],
      "collapsed_sections": [],
      "include_colab_link": true
    }
  },
  "cells": [
    {
      "cell_type": "markdown",
      "metadata": {
        "id": "view-in-github",
        "colab_type": "text"
      },
      "source": [
        "<a href=\"https://colab.research.google.com/github/Jung-Yong-Hun/Stock_Forecast/blob/main/1_1.ipynb\" target=\"_parent\"><img src=\"https://colab.research.google.com/assets/colab-badge.svg\" alt=\"Open In Colab\"/></a>"
      ]
    },
    {
      "cell_type": "code",
      "metadata": {
        "id": "ugEGgSrl0Yjo"
      },
      "source": [
        "import requests\n",
        "headers = {\"User-Agent\": \"Mozilla/5.0\"}\n",
        "\n",
        "# WSJ 헤드라인 섹션 가져옴\n",
        "webpage = requests.get(\"https://www.wsj.com/news/economy?mod=nav_top_section\", headers=headers)\n",
        "\n",
        "# 나스닥 종합주가지수\n",
        "webpage_nasdaq = requests.get(\"https://kr.investing.com/indices/nasdaq-composite\", headers=headers)"
      ],
      "execution_count": 41,
      "outputs": []
    },
    {
      "cell_type": "code",
      "metadata": {
        "id": "wiLAZABp0Yj0"
      },
      "source": [
        "from bs4 import BeautifulSoup"
      ],
      "execution_count": 42,
      "outputs": []
    },
    {
      "cell_type": "code",
      "metadata": {
        "id": "puhdZlrN0Yj3"
      },
      "source": [
        "# WSJ 헤드라인\n",
        "headline_str = ''\n",
        "bs = BeautifulSoup(webpage.text, 'html.parser')"
      ],
      "execution_count": 43,
      "outputs": []
    },
    {
      "cell_type": "code",
      "metadata": {
        "colab": {
          "base_uri": "https://localhost:8080/"
        },
        "id": "2sDwsL5u0Yj5",
        "outputId": "8ae9448a-00b9-47f2-974f-f4e38b23714c"
      },
      "source": [
        "import re\n",
        "\n",
        "# 나스닥 지수\n",
        "nasdaq_indices = ''\n",
        "bs_nasdaq = BeautifulSoup(webpage_nasdaq.text, 'html.parser')\n",
        "nasdaq_indices = bs_nasdaq.find(\"span\", {\"class\" : \"instrument-price_change-percent__19cas\"})\n",
        "#print(nasdaq_indices)\n",
        "#print(nasdaq_indices.text)\n",
        "\n",
        "#불필요문자 제거\n",
        "table = str.maketrans(\"()%\", \"   \")\n",
        "\n",
        "indices = float(nasdaq_indices.text.translate(table))\n",
        "indices"
      ],
      "execution_count": 44,
      "outputs": [
        {
          "output_type": "execute_result",
          "data": {
            "text/plain": [
              "1.67"
            ]
          },
          "metadata": {},
          "execution_count": 44
        }
      ]
    },
    {
      "cell_type": "code",
      "metadata": {
        "colab": {
          "base_uri": "https://localhost:8080/"
        },
        "id": "Z-99x6q70Yj9",
        "outputId": "1dc5ab31-fd7f-40f6-b95c-745d9de7b6e5"
      },
      "source": [
        "#헤드라인 텍스트 가져오기\n",
        "headline_list = bs.select('img')\n",
        "headline_list\n",
        "\n",
        "headline_str = ''\n",
        "\n",
        "for i in range(0, len(headline_list)):\n",
        "    if(headline_list[i].has_attr('title')):\n",
        "        print('[ '+str(i)+ ' ] 번째 헤드라인 '+headline_list[i]['title'])\n",
        "        headline_str = headline_str + str(i+1)+') ' + headline_list[i]['title'] + ' '\n",
        "\n",
        "print(headline_str)"
      ],
      "execution_count": 45,
      "outputs": [
        {
          "output_type": "stream",
          "name": "stdout",
          "text": [
            "[ 0 ] 번째 헤드라인 The Labor Shortage Is Here to Stay. Businesses Are Adjusting.\n",
            "[ 1 ] 번째 헤드라인 Tight Labor Market, Supply Constraints Point to Persistent Inflation\n",
            "[ 2 ] 번째 헤드라인 Mass Evictions Didn’t Result After U.S. Ban Ended, Despite Fears\n",
            "[ 3 ] 번째 헤드라인 Accelerating Inflation Spreads Through the Economy\n",
            "[ 4 ] 번째 헤드라인 China’s Factory-Gate Prices Rise at Record Pace\n",
            "[ 5 ] 번째 헤드라인 Fed Worried About Inflation Risk as It Firmed Up Tapering Plan\n",
            "[ 6 ] 번째 헤드라인 How Retail Cheese Prices Weather Market Volatility\n",
            "[ 7 ] 번째 헤드라인 How the Pandemic Is Accelerating Changes in Your Packaging \n",
            "[ 8 ] 번째 헤드라인 ‘Dark Stores’: How Groceries Are Being Delivered in Minutes\n",
            "1) The Labor Shortage Is Here to Stay. Businesses Are Adjusting. 2) Tight Labor Market, Supply Constraints Point to Persistent Inflation 3) Mass Evictions Didn’t Result After U.S. Ban Ended, Despite Fears 4) Accelerating Inflation Spreads Through the Economy 5) China’s Factory-Gate Prices Rise at Record Pace 6) Fed Worried About Inflation Risk as It Firmed Up Tapering Plan 7) How Retail Cheese Prices Weather Market Volatility 8) How the Pandemic Is Accelerating Changes in Your Packaging  9) ‘Dark Stores’: How Groceries Are Being Delivered in Minutes \n"
          ]
        }
      ]
    },
    {
      "cell_type": "code",
      "metadata": {
        "colab": {
          "base_uri": "https://localhost:8080/"
        },
        "id": "nufloggH0Yj_",
        "outputId": "66cc89d6-1901-40c0-f59c-7b96668521eb"
      },
      "source": [
        "# client ID : eqwc_HUTOA7373MjFNQ6\n",
        "# secret key : BEyf9Pzttu\n",
        "\n",
        "import os\n",
        "import sys\n",
        "import urllib.request\n",
        "\n",
        "client_id = \"eqwc_HUTOA7373MjFNQ6\"\n",
        "client_secret = \"BEyf9Pzttu\"\n",
        "encText = urllib.parse.quote(headline_str)\n",
        "data = \"source=en&target=ko&text=\" + encText\n",
        "url = \"https://openapi.naver.com/v1/papago/n2mt\"\n",
        "request = urllib.request.Request(url)\n",
        "request.add_header(\"X-Naver-Client-id\", client_id)\n",
        "request.add_header(\"X-naver-Client-Secret\", client_secret)\n",
        "response = urllib.request.urlopen(request, data=data.encode('utf-8'))\n",
        "rescode = response.getcode()\n",
        "\n",
        "if(rescode==200):\n",
        "    response_body =response.read()\n",
        "    print(response_body.decode(\"utf-8\"))\n",
        "else:\n",
        "    print('Error Code:' + rescode)\n",
        "\n"
      ],
      "execution_count": 46,
      "outputs": [
        {
          "output_type": "stream",
          "name": "stdout",
          "text": [
            "{\"message\":{\"@type\":\"response\",\"@service\":\"naverservice.nmt.proxy\",\"@version\":\"1.0.0\",\"result\":{\"srcLangType\":\"en\",\"tarLangType\":\"ko\",\"translatedText\":\"1) 노동력 부족은 여전하다. 기업 조정 중 2) 노동시장 긴축, 지속적인 인플레이션 공급 제약 3) 미국의 금지가 끝난 후에도 대량 퇴거가 발생하지 않음4) 경제를 통한 인플레이션 확산 가속화5) 중국 공장-게이트 가격 상승 우려 6)l 치즈 가격 날씨 시장 변동성8) 포장의 변화를 가속화하는 방법 9) '암매장': 식료품이 몇 분 만에 배달되는 방법\",\"engineType\":\"UNDEF_MULTI_SENTENCE\",\"pivot\":null}}}\n"
          ]
        }
      ]
    },
    {
      "cell_type": "code",
      "metadata": {
        "colab": {
          "base_uri": "https://localhost:8080/"
        },
        "id": "XOObReNB0YkC",
        "outputId": "e507e157-a02d-4714-bcb5-d9729db64dfc"
      },
      "source": [
        "text = response_body.decode('utf-8')\n",
        "\n",
        "import json\n",
        "parser = json.loads(text)\n",
        "text = parser['message']['result']['translatedText']\n",
        "print(text)"
      ],
      "execution_count": 47,
      "outputs": [
        {
          "output_type": "stream",
          "name": "stdout",
          "text": [
            "1) 노동력 부족은 여전하다. 기업 조정 중 2) 노동시장 긴축, 지속적인 인플레이션 공급 제약 3) 미국의 금지가 끝난 후에도 대량 퇴거가 발생하지 않음4) 경제를 통한 인플레이션 확산 가속화5) 중국 공장-게이트 가격 상승 우려 6)l 치즈 가격 날씨 시장 변동성8) 포장의 변화를 가속화하는 방법 9) '암매장': 식료품이 몇 분 만에 배달되는 방법\n"
          ]
        }
      ]
    },
    {
      "cell_type": "code",
      "metadata": {
        "colab": {
          "base_uri": "https://localhost:8080/"
        },
        "id": "6E8NRd_T0YkF",
        "outputId": "7556ecb0-ddf4-4ce1-ccab-b7a1f39160b8"
      },
      "source": [
        "print(re.compile('[가-힣]+').findall(text))"
      ],
      "execution_count": 48,
      "outputs": [
        {
          "output_type": "stream",
          "name": "stdout",
          "text": [
            "['노동력', '부족은', '여전하다', '기업', '조정', '중', '노동시장', '긴축', '지속적인', '인플레이션', '공급', '제약', '미국의', '금지가', '끝난', '후에도', '대량', '퇴거가', '발생하지', '않음', '경제를', '통한', '인플레이션', '확산', '가속화', '중국', '공장', '게이트', '가격', '상승', '우려', '치즈', '가격', '날씨', '시장', '변동성', '포장의', '변화를', '가속화하는', '방법', '암매장', '식료품이', '몇', '분', '만에', '배달되는', '방법']\n"
          ]
        }
      ]
    },
    {
      "cell_type": "code",
      "metadata": {
        "id": "UWp2KLp20YkG"
      },
      "source": [
        "good_words = ['최고','혜택','증가','상승','원조','수익','기대감','높은','회복세','회복']\n",
        "good_words_count = 0\n",
        "\n",
        "bad_words = ['최악','침체','부채','코로나','감소','사망','사고','트럼프','위험','인플레이션','엘살바도르','경고','Covid-19','긴축']\n",
        "bad_words_count =0"
      ],
      "execution_count": 49,
      "outputs": []
    },
    {
      "cell_type": "code",
      "metadata": {
        "id": "zdBUmRFn0YkJ"
      },
      "source": [
        "def get_translate(text, lan):\n",
        "    data = {'text' : text,\n",
        "            'source' : 'en',\n",
        "            'target' : lan\n",
        "            }\n",
        "    url = \"https://openapi.naver.com/v1/papago/n2mt\"\n",
        "    header = {\"X-Naver-Client-id\" : client_id,\n",
        "          \"X-naver-Client-Secret\" : client_secret}\n",
        "\n",
        "    response = requests.post(url, headers=header, data=data)\n",
        "        # response code : 200 정상 , 나머지는 오류\n",
        "    rescode = response.status_code\n",
        "\n",
        "    if(rescode == 200):\n",
        "        text_data = response.json()\n",
        "        print(text_data['message']['result']['translatedText'])\n",
        "    else:\n",
        "        print('Error code: ', rescode)\n",
        "    return text_data['message']['result']['translatedText']"
      ],
      "execution_count": 50,
      "outputs": []
    },
    {
      "cell_type": "code",
      "metadata": {
        "colab": {
          "base_uri": "https://localhost:8080/"
        },
        "id": "3-4PxI8I0YkL",
        "outputId": "5f534764-ca78-4439-a36f-ee73b0487742"
      },
      "source": [
        "translate_list = []\n",
        "\n",
        "for i in range(len(headline_list)):\n",
        "\n",
        "    # 번역된 텍스트\n",
        "    kor_text = get_translate(headline_list[i]['title'], 'ko')\n",
        "    translate_list.append(kor_text)\n",
        "\n",
        "    # good words 존재 여부\n",
        "    for j in range(0, len(good_words)):\n",
        "        if(good_words[j] in kor_text):\n",
        "            print('-------------')\n",
        "            print(\"good words : \", good_words[j])\n",
        "            print(\"-------------\")\n",
        "            good_words_count = good_words_count + 1\n",
        "    # bad words 존재 여부\n",
        "    for k in range(0, len(bad_words)):\n",
        "        if(bad_words[k] in kor_text):\n",
        "            print('-------------')\n",
        "            print(\"bad words : \", bad_words[k])\n",
        "            print(\"-------------\")\n",
        "            bad_words_count = bad_words_count + 1"
      ],
      "execution_count": 51,
      "outputs": [
        {
          "output_type": "stream",
          "name": "stdout",
          "text": [
            "노동력 부족은 지속될 것이다. 기업이 적응하고 있다.\n",
            "노동시장 긴축, 공급 제약, 지속적인 인플레이션 요인\n",
            "-------------\n",
            "bad words :  인플레이션\n",
            "-------------\n",
            "-------------\n",
            "bad words :  긴축\n",
            "-------------\n",
            "미국의 반이 끝난 후에도 두려움에도 불구하고 대량 퇴거가 일어나지 않았다.\n",
            "경제 전반에 걸쳐 인플레이션 확산\n",
            "-------------\n",
            "bad words :  인플레이션\n",
            "-------------\n",
            "기록적인 속도로 상승하는 중국 공장 게이트 가격\n",
            "-------------\n",
            "good words :  상승\n",
            "-------------\n",
            "연방준비제도이사회(FRB)가 테이퍼링 계획을 추진하면서 인플레이션 위험 우려\n",
            "-------------\n",
            "bad words :  위험\n",
            "-------------\n",
            "-------------\n",
            "bad words :  인플레이션\n",
            "-------------\n",
            "소매치즈 가격 변동성 예측 방법\n",
            "전염병이 포장의 변화를 가속화하는 방법\n",
            "'어두운 상점': 식료품이 몇 분 만에 배달되는 방법\n"
          ]
        }
      ]
    },
    {
      "cell_type": "code",
      "metadata": {
        "colab": {
          "base_uri": "https://localhost:8080/"
        },
        "id": "4Z2el6Ko0YkN",
        "outputId": "aec3a372-b9de-4217-9d05-b149e940e459"
      },
      "source": [
        "print(good_words_count)\n",
        "print(bad_words_count)\n",
        "print(indices)"
      ],
      "execution_count": 52,
      "outputs": [
        {
          "output_type": "stream",
          "name": "stdout",
          "text": [
            "1\n",
            "5\n",
            "1.67\n"
          ]
        }
      ]
    },
    {
      "cell_type": "code",
      "metadata": {
        "colab": {
          "base_uri": "https://localhost:8080/"
        },
        "id": "FRZujtUC0YkO",
        "outputId": "eda12c34-45b1-445a-fb32-3957c5a31cc9"
      },
      "source": [
        "import pandas as pd\n",
        "from datetime import datetime\n",
        "print(datetime.today().strftime(\"%Y-%m-%d\"))\n"
      ],
      "execution_count": 53,
      "outputs": [
        {
          "output_type": "stream",
          "name": "stdout",
          "text": [
            "2021-10-14\n"
          ]
        }
      ]
    },
    {
      "cell_type": "code",
      "metadata": {
        "colab": {
          "base_uri": "https://localhost:8080/",
          "height": 80
        },
        "id": "D9NF4yva0YkT",
        "outputId": "060f292e-3c3c-460b-f9ea-cac2bb2a7429"
      },
      "source": [
        "columns = ['date', 'good_words_count', 'bad_words_count', 'indices']\n",
        "df_total = pd.DataFrame(columns=columns)\n",
        "df_total.loc[1] = [datetime.today().strftime(\"%Y-%m-%d\"), good_words_count, bad_words_count, indices]\n",
        "df_total"
      ],
      "execution_count": 54,
      "outputs": [
        {
          "output_type": "execute_result",
          "data": {
            "text/html": [
              "<div>\n",
              "<style scoped>\n",
              "    .dataframe tbody tr th:only-of-type {\n",
              "        vertical-align: middle;\n",
              "    }\n",
              "\n",
              "    .dataframe tbody tr th {\n",
              "        vertical-align: top;\n",
              "    }\n",
              "\n",
              "    .dataframe thead th {\n",
              "        text-align: right;\n",
              "    }\n",
              "</style>\n",
              "<table border=\"1\" class=\"dataframe\">\n",
              "  <thead>\n",
              "    <tr style=\"text-align: right;\">\n",
              "      <th></th>\n",
              "      <th>date</th>\n",
              "      <th>good_words_count</th>\n",
              "      <th>bad_words_count</th>\n",
              "      <th>indices</th>\n",
              "    </tr>\n",
              "  </thead>\n",
              "  <tbody>\n",
              "    <tr>\n",
              "      <th>1</th>\n",
              "      <td>2021-10-14</td>\n",
              "      <td>1</td>\n",
              "      <td>5</td>\n",
              "      <td>1.67</td>\n",
              "    </tr>\n",
              "  </tbody>\n",
              "</table>\n",
              "</div>"
            ],
            "text/plain": [
              "         date good_words_count bad_words_count  indices\n",
              "1  2021-10-14                1               5     1.67"
            ]
          },
          "metadata": {},
          "execution_count": 54
        }
      ]
    },
    {
      "cell_type": "code",
      "metadata": {
        "colab": {
          "base_uri": "https://localhost:8080/"
        },
        "id": "dK7N9s-u0YkV",
        "outputId": "bc4abaff-a6a1-4f84-f6e4-351e81c5d329"
      },
      "source": [
        "from google.colab import drive\n",
        "drive.mount('/content.drive')\n",
        "\n",
        "# /content.drive/MyDrive/주가지수_1014\n",
        "\n",
        "df_total.to_csv('/content.drive/MyDrive/주가지수_1014/'+datetime.today().strftime(\"%Y-%m-%d\")+'_indice.csv', encoding='utf-8')"
      ],
      "execution_count": 55,
      "outputs": [
        {
          "output_type": "stream",
          "name": "stdout",
          "text": [
            "Drive already mounted at /content.drive; to attempt to forcibly remount, call drive.mount(\"/content.drive\", force_remount=True).\n"
          ]
        }
      ]
    },
    {
      "cell_type": "code",
      "metadata": {
        "id": "z6WnTu0PPos_"
      },
      "source": [
        "columns = ['eng_text', 'kor_text']\n",
        "df = pd.DataFrame(columns=columns)\n",
        "\n",
        "for i in range(0, len(translate_list)):\n",
        "    kor_text = translate_list[i]\n",
        "    eng_text = headline_list[i]['title']\n",
        "    df.loc[i+1] = [eng_text,kor_text]"
      ],
      "execution_count": 56,
      "outputs": []
    },
    {
      "cell_type": "code",
      "metadata": {
        "colab": {
          "base_uri": "https://localhost:8080/",
          "height": 326
        },
        "id": "0fGJ-cr6dJbc",
        "outputId": "7e92008c-106f-464e-8903-705aeadd6074"
      },
      "source": [
        "df"
      ],
      "execution_count": 57,
      "outputs": [
        {
          "output_type": "execute_result",
          "data": {
            "text/html": [
              "<div>\n",
              "<style scoped>\n",
              "    .dataframe tbody tr th:only-of-type {\n",
              "        vertical-align: middle;\n",
              "    }\n",
              "\n",
              "    .dataframe tbody tr th {\n",
              "        vertical-align: top;\n",
              "    }\n",
              "\n",
              "    .dataframe thead th {\n",
              "        text-align: right;\n",
              "    }\n",
              "</style>\n",
              "<table border=\"1\" class=\"dataframe\">\n",
              "  <thead>\n",
              "    <tr style=\"text-align: right;\">\n",
              "      <th></th>\n",
              "      <th>eng_text</th>\n",
              "      <th>kor_text</th>\n",
              "    </tr>\n",
              "  </thead>\n",
              "  <tbody>\n",
              "    <tr>\n",
              "      <th>1</th>\n",
              "      <td>The Labor Shortage Is Here to Stay. Businesses...</td>\n",
              "      <td>노동력 부족은 지속될 것이다. 기업이 적응하고 있다.</td>\n",
              "    </tr>\n",
              "    <tr>\n",
              "      <th>2</th>\n",
              "      <td>Tight Labor Market, Supply Constraints Point t...</td>\n",
              "      <td>노동시장 긴축, 공급 제약, 지속적인 인플레이션 요인</td>\n",
              "    </tr>\n",
              "    <tr>\n",
              "      <th>3</th>\n",
              "      <td>Mass Evictions Didn’t Result After U.S. Ban En...</td>\n",
              "      <td>미국의 반이 끝난 후에도 두려움에도 불구하고 대량 퇴거가 일어나지 않았다.</td>\n",
              "    </tr>\n",
              "    <tr>\n",
              "      <th>4</th>\n",
              "      <td>Accelerating Inflation Spreads Through the Eco...</td>\n",
              "      <td>경제 전반에 걸쳐 인플레이션 확산</td>\n",
              "    </tr>\n",
              "    <tr>\n",
              "      <th>5</th>\n",
              "      <td>China’s Factory-Gate Prices Rise at Record Pace</td>\n",
              "      <td>기록적인 속도로 상승하는 중국 공장 게이트 가격</td>\n",
              "    </tr>\n",
              "    <tr>\n",
              "      <th>6</th>\n",
              "      <td>Fed Worried About Inflation Risk as It Firmed ...</td>\n",
              "      <td>연방준비제도이사회(FRB)가 테이퍼링 계획을 추진하면서 인플레이션 위험 우려</td>\n",
              "    </tr>\n",
              "    <tr>\n",
              "      <th>7</th>\n",
              "      <td>How Retail Cheese Prices Weather Market Volati...</td>\n",
              "      <td>소매치즈 가격 변동성 예측 방법</td>\n",
              "    </tr>\n",
              "    <tr>\n",
              "      <th>8</th>\n",
              "      <td>How the Pandemic Is Accelerating Changes in Yo...</td>\n",
              "      <td>전염병이 포장의 변화를 가속화하는 방법</td>\n",
              "    </tr>\n",
              "    <tr>\n",
              "      <th>9</th>\n",
              "      <td>‘Dark Stores’: How Groceries Are Being Deliver...</td>\n",
              "      <td>'어두운 상점': 식료품이 몇 분 만에 배달되는 방법</td>\n",
              "    </tr>\n",
              "  </tbody>\n",
              "</table>\n",
              "</div>"
            ],
            "text/plain": [
              "                                            eng_text                                    kor_text\n",
              "1  The Labor Shortage Is Here to Stay. Businesses...               노동력 부족은 지속될 것이다. 기업이 적응하고 있다.\n",
              "2  Tight Labor Market, Supply Constraints Point t...               노동시장 긴축, 공급 제약, 지속적인 인플레이션 요인\n",
              "3  Mass Evictions Didn’t Result After U.S. Ban En...   미국의 반이 끝난 후에도 두려움에도 불구하고 대량 퇴거가 일어나지 않았다.\n",
              "4  Accelerating Inflation Spreads Through the Eco...                          경제 전반에 걸쳐 인플레이션 확산\n",
              "5    China’s Factory-Gate Prices Rise at Record Pace                  기록적인 속도로 상승하는 중국 공장 게이트 가격\n",
              "6  Fed Worried About Inflation Risk as It Firmed ...  연방준비제도이사회(FRB)가 테이퍼링 계획을 추진하면서 인플레이션 위험 우려\n",
              "7  How Retail Cheese Prices Weather Market Volati...                           소매치즈 가격 변동성 예측 방법\n",
              "8  How the Pandemic Is Accelerating Changes in Yo...                       전염병이 포장의 변화를 가속화하는 방법\n",
              "9  ‘Dark Stores’: How Groceries Are Being Deliver...               '어두운 상점': 식료품이 몇 분 만에 배달되는 방법"
            ]
          },
          "metadata": {},
          "execution_count": 57
        }
      ]
    },
    {
      "cell_type": "code",
      "metadata": {
        "id": "EsRA8B9wdLB-"
      },
      "source": [
        "df.to_csv('/content.drive/MyDrive/주가지수_1014/'+datetime.today().strftime(\"%Y-%m-%d\")+'_headline.csv', encoding='utf-8')"
      ],
      "execution_count": 58,
      "outputs": []
    }
  ]
}